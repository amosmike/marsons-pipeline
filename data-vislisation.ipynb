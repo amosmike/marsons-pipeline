{
 "cells": [
  {
   "cell_type": "code",
   "execution_count": 2,
   "metadata": {},
   "outputs": [
    {
     "data": {
      "text/html": [
       "<div>\n",
       "<style scoped>\n",
       "    .dataframe tbody tr th:only-of-type {\n",
       "        vertical-align: middle;\n",
       "    }\n",
       "\n",
       "    .dataframe tbody tr th {\n",
       "        vertical-align: top;\n",
       "    }\n",
       "\n",
       "    .dataframe thead th {\n",
       "        text-align: right;\n",
       "    }\n",
       "</style>\n",
       "<table border=\"1\" class=\"dataframe\">\n",
       "  <thead>\n",
       "    <tr style=\"text-align: right;\">\n",
       "      <th></th>\n",
       "      <th>pub_name</th>\n",
       "      <th>address</th>\n",
       "      <th>category</th>\n",
       "      <th>item_name</th>\n",
       "      <th>item_price</th>\n",
       "      <th>opening_times</th>\n",
       "    </tr>\n",
       "  </thead>\n",
       "  <tbody>\n",
       "    <tr>\n",
       "      <th>0</th>\n",
       "      <td>Blue Jay Derby</td>\n",
       "      <td>Derby, DE21 7HX</td>\n",
       "      <td>Starters &amp; Sharers</td>\n",
       "      <td>Soup of the Day (Ve)</td>\n",
       "      <td>£4.70</td>\n",
       "      <td>07:00 - 23:00</td>\n",
       "    </tr>\n",
       "    <tr>\n",
       "      <th>1</th>\n",
       "      <td>Blue Jay Derby</td>\n",
       "      <td>Derby, DE21 7HX</td>\n",
       "      <td>Starters &amp; Sharers</td>\n",
       "      <td>Crispy Buttermilk Chicken Goujons for One</td>\n",
       "      <td>£5.60</td>\n",
       "      <td>07:00 - 23:00</td>\n",
       "    </tr>\n",
       "    <tr>\n",
       "      <th>2</th>\n",
       "      <td>Blue Jay Derby</td>\n",
       "      <td>Derby, DE21 7HX</td>\n",
       "      <td>Starters &amp; Sharers</td>\n",
       "      <td>Brie Dippers for One (V)*</td>\n",
       "      <td>£5.60</td>\n",
       "      <td>07:00 - 23:00</td>\n",
       "    </tr>\n",
       "    <tr>\n",
       "      <th>3</th>\n",
       "      <td>Blue Jay Derby</td>\n",
       "      <td>Derby, DE21 7HX</td>\n",
       "      <td>Starters &amp; Sharers</td>\n",
       "      <td>Mexican Nachos for One (V)</td>\n",
       "      <td>£5.60</td>\n",
       "      <td>07:00 - 23:00</td>\n",
       "    </tr>\n",
       "    <tr>\n",
       "      <th>4</th>\n",
       "      <td>Blue Jay Derby</td>\n",
       "      <td>Derby, DE21 7HX</td>\n",
       "      <td>Starters &amp; Sharers</td>\n",
       "      <td>Mexican Nachos for One (Ve)</td>\n",
       "      <td>£5.60</td>\n",
       "      <td>07:00 - 23:00</td>\n",
       "    </tr>\n",
       "  </tbody>\n",
       "</table>\n",
       "</div>"
      ],
      "text/plain": [
       "         pub_name          address             category  \\\n",
       "0  Blue Jay Derby  Derby, DE21 7HX   Starters & Sharers   \n",
       "1  Blue Jay Derby  Derby, DE21 7HX   Starters & Sharers   \n",
       "2  Blue Jay Derby  Derby, DE21 7HX   Starters & Sharers   \n",
       "3  Blue Jay Derby  Derby, DE21 7HX   Starters & Sharers   \n",
       "4  Blue Jay Derby  Derby, DE21 7HX   Starters & Sharers   \n",
       "\n",
       "                                   item_name item_price  opening_times  \n",
       "0                       Soup of the Day (Ve)      £4.70  07:00 - 23:00  \n",
       "1  Crispy Buttermilk Chicken Goujons for One      £5.60  07:00 - 23:00  \n",
       "2                  Brie Dippers for One (V)*      £5.60  07:00 - 23:00  \n",
       "3                 Mexican Nachos for One (V)      £5.60  07:00 - 23:00  \n",
       "4                Mexican Nachos for One (Ve)      £5.60  07:00 - 23:00  "
      ]
     },
     "execution_count": 2,
     "metadata": {},
     "output_type": "execute_result"
    }
   ],
   "source": [
    "import pandas as pd\n",
    "from clean_data_functions import cleanse_data\n",
    "\n",
    "marsons_df = pd.read_csv('pub_data_result.csv')\n",
    "marsons_df.columns =['pub_name', 'address', 'category', 'item_name', 'item_price', 'opening_times']\n",
    "cleanse_data(marsons_df)\n",
    "marsons_df.head(5)"
   ]
  },
  {
   "cell_type": "code",
   "execution_count": 3,
   "metadata": {},
   "outputs": [
    {
     "data": {
      "text/html": [
       "<div>\n",
       "<style scoped>\n",
       "    .dataframe tbody tr th:only-of-type {\n",
       "        vertical-align: middle;\n",
       "    }\n",
       "\n",
       "    .dataframe tbody tr th {\n",
       "        vertical-align: top;\n",
       "    }\n",
       "\n",
       "    .dataframe thead th {\n",
       "        text-align: right;\n",
       "    }\n",
       "</style>\n",
       "<table border=\"1\" class=\"dataframe\">\n",
       "  <thead>\n",
       "    <tr style=\"text-align: right;\">\n",
       "      <th></th>\n",
       "      <th>pub_name</th>\n",
       "      <th>address</th>\n",
       "      <th>category</th>\n",
       "      <th>item_name</th>\n",
       "      <th>item_price</th>\n",
       "      <th>opening_times</th>\n",
       "    </tr>\n",
       "  </thead>\n",
       "  <tbody>\n",
       "    <tr>\n",
       "      <th>count</th>\n",
       "      <td>101826</td>\n",
       "      <td>101220</td>\n",
       "      <td>101526</td>\n",
       "      <td>101526</td>\n",
       "      <td>101526</td>\n",
       "      <td>100250</td>\n",
       "    </tr>\n",
       "    <tr>\n",
       "      <th>unique</th>\n",
       "      <td>477</td>\n",
       "      <td>478</td>\n",
       "      <td>91</td>\n",
       "      <td>2133</td>\n",
       "      <td>339</td>\n",
       "      <td>21</td>\n",
       "    </tr>\n",
       "    <tr>\n",
       "      <th>top</th>\n",
       "      <td>Riddle &amp; Rye Exeter</td>\n",
       "      <td>Exeter, EX4 3LR</td>\n",
       "      <td>Spirits</td>\n",
       "      <td>Blackcurrant Cordial - 14oz</td>\n",
       "      <td>£4.95</td>\n",
       "      <td>09:00 - 23:00</td>\n",
       "    </tr>\n",
       "    <tr>\n",
       "      <th>freq</th>\n",
       "      <td>1036</td>\n",
       "      <td>1036</td>\n",
       "      <td>24822</td>\n",
       "      <td>318</td>\n",
       "      <td>2096</td>\n",
       "      <td>42060</td>\n",
       "    </tr>\n",
       "  </tbody>\n",
       "</table>\n",
       "</div>"
      ],
      "text/plain": [
       "                   pub_name          address  category  \\\n",
       "count                101826           101220    101526   \n",
       "unique                  477              478        91   \n",
       "top     Riddle & Rye Exeter  Exeter, EX4 3LR   Spirits   \n",
       "freq                   1036             1036     24822   \n",
       "\n",
       "                          item_name item_price  opening_times  \n",
       "count                        101526     101526         100250  \n",
       "unique                         2133        339             21  \n",
       "top     Blackcurrant Cordial - 14oz      £4.95  09:00 - 23:00  \n",
       "freq                            318       2096          42060  "
      ]
     },
     "execution_count": 3,
     "metadata": {},
     "output_type": "execute_result"
    }
   ],
   "source": [
    "marsons_df.describe()"
   ]
  },
  {
   "cell_type": "code",
   "execution_count": 6,
   "metadata": {},
   "outputs": [
    {
     "data": {
      "text/html": [
       "<div>\n",
       "<style scoped>\n",
       "    .dataframe tbody tr th:only-of-type {\n",
       "        vertical-align: middle;\n",
       "    }\n",
       "\n",
       "    .dataframe tbody tr th {\n",
       "        vertical-align: top;\n",
       "    }\n",
       "\n",
       "    .dataframe thead th {\n",
       "        text-align: right;\n",
       "    }\n",
       "</style>\n",
       "<table border=\"1\" class=\"dataframe\">\n",
       "  <thead>\n",
       "    <tr style=\"text-align: right;\">\n",
       "      <th></th>\n",
       "      <th>pub_name</th>\n",
       "      <th>address</th>\n",
       "      <th>category</th>\n",
       "      <th>item_name</th>\n",
       "      <th>item_price</th>\n",
       "      <th>opening_times</th>\n",
       "    </tr>\n",
       "  </thead>\n",
       "  <tbody>\n",
       "    <tr>\n",
       "      <th>count</th>\n",
       "      <td>96362</td>\n",
       "      <td>96362</td>\n",
       "      <td>96362</td>\n",
       "      <td>96362</td>\n",
       "      <td>96362</td>\n",
       "      <td>96362</td>\n",
       "    </tr>\n",
       "    <tr>\n",
       "      <th>unique</th>\n",
       "      <td>178</td>\n",
       "      <td>178</td>\n",
       "      <td>91</td>\n",
       "      <td>2132</td>\n",
       "      <td>339</td>\n",
       "      <td>21</td>\n",
       "    </tr>\n",
       "    <tr>\n",
       "      <th>top</th>\n",
       "      <td>Riddle &amp; Rye Exeter</td>\n",
       "      <td>Exeter, EX4 3LR</td>\n",
       "      <td>Spirits</td>\n",
       "      <td>Ice Cream Sundae (Ve)</td>\n",
       "      <td>£4.95</td>\n",
       "      <td>09:00 - 23:00</td>\n",
       "    </tr>\n",
       "    <tr>\n",
       "      <th>freq</th>\n",
       "      <td>1032</td>\n",
       "      <td>1032</td>\n",
       "      <td>22943</td>\n",
       "      <td>293</td>\n",
       "      <td>2045</td>\n",
       "      <td>40849</td>\n",
       "    </tr>\n",
       "  </tbody>\n",
       "</table>\n",
       "</div>"
      ],
      "text/plain": [
       "                   pub_name          address  category              item_name  \\\n",
       "count                 96362            96362     96362                  96362   \n",
       "unique                  178              178        91                   2132   \n",
       "top     Riddle & Rye Exeter  Exeter, EX4 3LR   Spirits  Ice Cream Sundae (Ve)   \n",
       "freq                   1032             1032     22943                    293   \n",
       "\n",
       "       item_price  opening_times  \n",
       "count       96362          96362  \n",
       "unique        339             21  \n",
       "top         £4.95  09:00 - 23:00  \n",
       "freq         2045          40849  "
      ]
     },
     "execution_count": 6,
     "metadata": {},
     "output_type": "execute_result"
    }
   ],
   "source": [
    "marsons_df = marsons_df.dropna()\n",
    "marsons_df.describe()"
   ]
  },
  {
   "cell_type": "code",
   "execution_count": 11,
   "metadata": {},
   "outputs": [
    {
     "data": {
      "text/plain": [
       "count        96362\n",
       "unique          91\n",
       "top        Spirits\n",
       "freq         22943\n",
       "Name: category, dtype: object"
      ]
     },
     "execution_count": 11,
     "metadata": {},
     "output_type": "execute_result"
    }
   ],
   "source": [
    "marsons_df['category'] = marsons_df['category'].astype('category')\n",
    "marsons_df['category'].describe() # still object?"
   ]
  },
  {
   "cell_type": "code",
   "execution_count": 13,
   "metadata": {},
   "outputs": [
    {
     "ename": "NameError",
     "evalue": "name 'price' is not defined",
     "output_type": "error",
     "traceback": [
      "\u001b[0;31m---------------------------------------------------------------------------\u001b[0m",
      "\u001b[0;31mNameError\u001b[0m                                 Traceback (most recent call last)",
      "\u001b[1;32m/Users/michaelamos/Documents/AICore/Remote-Reps/marsons-pipeline/data-vislisation.ipynb Cell 5'\u001b[0m in \u001b[0;36m<cell line: 1>\u001b[0;34m()\u001b[0m\n\u001b[0;32m----> <a href='vscode-notebook-cell:/Users/michaelamos/Documents/AICore/Remote-Reps/marsons-pipeline/data-vislisation.ipynb#ch0000004?line=0'>1</a>\u001b[0m clean_price \u001b[39m=\u001b[39m price\u001b[39m.\u001b[39mreplace(to_replace\u001b[39m=\u001b[39m\u001b[39m'\u001b[39m\u001b[39m[^0-9.]\u001b[39m\u001b[39m'\u001b[39m, value\u001b[39m=\u001b[39m\u001b[39m'\u001b[39m\u001b[39m'\u001b[39m, regex\u001b[39m=\u001b[39m\u001b[39mTrue\u001b[39;00m)\n\u001b[1;32m      <a href='vscode-notebook-cell:/Users/michaelamos/Documents/AICore/Remote-Reps/marsons-pipeline/data-vislisation.ipynb#ch0000004?line=1'>2</a>\u001b[0m float_column \u001b[39m=\u001b[39m pd\u001b[39m.\u001b[39mto_numeric(clean_price)\n",
      "\u001b[0;31mNameError\u001b[0m: name 'price' is not defined"
     ]
    }
   ],
   "source": [
    "clean_price = price.replace(to_replace='[^0-9.]', value='', regex=True)\n",
    "float_column = pd.to_numeric(clean_price)"
   ]
  }
 ],
 "metadata": {
  "interpreter": {
   "hash": "c65f6705742fa1ffb66a8d13023e0ff7e98f925180944521e36dce08e54b2db0"
  },
  "kernelspec": {
   "display_name": "Python 3.9.12 ('pandas_env')",
   "language": "python",
   "name": "python3"
  },
  "language_info": {
   "codemirror_mode": {
    "name": "ipython",
    "version": 3
   },
   "file_extension": ".py",
   "mimetype": "text/x-python",
   "name": "python",
   "nbconvert_exporter": "python",
   "pygments_lexer": "ipython3",
   "version": "3.9.12"
  },
  "orig_nbformat": 4
 },
 "nbformat": 4,
 "nbformat_minor": 2
}
