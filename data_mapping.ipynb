{
 "cells": [
  {
   "cell_type": "code",
   "execution_count": 1,
   "metadata": {},
   "outputs": [],
   "source": [
    "import requests\n",
    "import json\n",
    "import urllib"
   ]
  },
  {
   "cell_type": "code",
   "execution_count": 2,
   "metadata": {},
   "outputs": [],
   "source": [
    "base_url= \"https://maps.googleapis.com/maps/api/geocode/json?\"\n",
    "AUTH_KEY = 'Your Key'"
   ]
  },
  {
   "cell_type": "code",
   "execution_count": null,
   "metadata": {},
   "outputs": [],
   "source": [
    "parameters = {\"address\": \"Tuscany, Italy\",\n",
    "             \"key\": AUTH_KEY}"
   ]
  }
 ],
 "metadata": {
  "interpreter": {
   "hash": "c65f6705742fa1ffb66a8d13023e0ff7e98f925180944521e36dce08e54b2db0"
  },
  "kernelspec": {
   "display_name": "Python 3.9.12 ('pandas_env')",
   "language": "python",
   "name": "python3"
  },
  "language_info": {
   "codemirror_mode": {
    "name": "ipython",
    "version": 3
   },
   "file_extension": ".py",
   "mimetype": "text/x-python",
   "name": "python",
   "nbconvert_exporter": "python",
   "pygments_lexer": "ipython3",
   "version": "3.9.12"
  },
  "orig_nbformat": 4
 },
 "nbformat": 4,
 "nbformat_minor": 2
}
